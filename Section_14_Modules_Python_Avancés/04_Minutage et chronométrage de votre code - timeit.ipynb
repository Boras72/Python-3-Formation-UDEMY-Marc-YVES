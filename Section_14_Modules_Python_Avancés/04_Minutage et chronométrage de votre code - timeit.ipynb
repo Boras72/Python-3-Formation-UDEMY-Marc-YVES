{
 "cells": [
  {
   "cell_type": "markdown",
   "metadata": {},
   "source": [
    "# Chronométrer votre code\n",
    "\n",
    "Il est souvent important de savoir combien de temps votre code met à s'exécuter, ou au moins pour identifier les lignes qui ralentissent tout votre projet. Python a pour cela un module intégré.\n",
    "\n",
    "Ce module propose une manière simple de chronométrer de petites portions de code Python. Il propose une interface ligne de commande et des fonctions à appeler. Il permet aussi d'éviter les pièges les plus courants de la mesure de temps d'exécution.\n",
    "\n",
    "\n",
    "Jetons un oeil à `timeit` :"
   ]
  },
  {
   "cell_type": "code",
   "execution_count": 1,
   "metadata": {
    "collapsed": true
   },
   "outputs": [],
   "source": [
    "import timeit"
   ]
  },
  {
   "cell_type": "markdown",
   "metadata": {},
   "source": [
    "Commençons par utiliser `timeit` pour chronométrer différentes façon de créer la chaine de caractères : '0-1-2-3-.....-99'\n",
    "\n",
    "Pour cela, nous devons passer 2 arguments : la ligne à tester encapsulée sous forme d'une chaine de caractères et le nombre de fois que nous voulons l'exécuter. Ici nous allons utiliser 10.000 pour avoir des nombres suffisement grands à comparer."
   ]
  },
  {
   "cell_type": "code",
   "execution_count": 3,
   "metadata": {
    "collapsed": false
   },
   "outputs": [
    {
     "data": {
      "text/plain": [
       "0.20086893401457928"
      ]
     },
     "execution_count": 3,
     "metadata": {},
     "output_type": "execute_result"
    }
   ],
   "source": [
    "# Boucle for \n",
    "timeit.timeit('\"-\".join(str(n) for n in range(100))', number=10000)"
   ]
  },
  {
   "cell_type": "code",
   "execution_count": 4,
   "metadata": {
    "collapsed": false
   },
   "outputs": [
    {
     "data": {
      "text/plain": [
       "0.17667966001317836"
      ]
     },
     "execution_count": 4,
     "metadata": {},
     "output_type": "execute_result"
    }
   ],
   "source": [
    "# Comprehension de liste\n",
    "timeit.timeit('\"-\".join([str(n) for n in range(100)])', number=10000)"
   ]
  },
  {
   "cell_type": "code",
   "execution_count": 5,
   "metadata": {
    "collapsed": false
   },
   "outputs": [
    {
     "data": {
      "text/plain": [
       "0.128120407985989"
      ]
     },
     "execution_count": 5,
     "metadata": {},
     "output_type": "execute_result"
    }
   ],
   "source": [
    "# Map()\n",
    "timeit.timeit('\"-\".join(map(str, range(100)))', number=10000)"
   ]
  },
  {
   "cell_type": "markdown",
   "metadata": {},
   "source": [
    "Parfait !\n",
    "Nous pouvons constater une vraie différence de performance avec `map()`. C'est bon à savoir et il faudra vous en rappeler !\n",
    "\n",
    "Voyons maintenant une fonction magique de Jupyter : %timeit\n",
    "\n",
    "De la même façon %timeit dans un Notebook Jupyter va répéter l'exécution de la même ligne un certain nombre de fois and vous donnera directement la performance des 3 meilleures.\n",
    "\n",
    "Faisons la même opération que précédemment mais cette fois avec la fonction magique %timeit:"
   ]
  },
  {
   "cell_type": "code",
   "execution_count": 6,
   "metadata": {
    "collapsed": false
   },
   "outputs": [
    {
     "name": "stdout",
     "output_type": "stream",
     "text": [
      "18.9 µs ± 395 ns per loop (mean ± std. dev. of 7 runs, 100000 loops each)\n"
     ]
    }
   ],
   "source": [
    "%timeit \"-\".join(str(n) for n in range(100)) "
   ]
  },
  {
   "cell_type": "code",
   "execution_count": 12,
   "metadata": {
    "collapsed": false
   },
   "outputs": [
    {
     "name": "stdout",
     "output_type": "stream",
     "text": [
      "16.5 µs ± 327 ns per loop (mean ± std. dev. of 7 runs, 100000 loops each)\n"
     ]
    }
   ],
   "source": [
    "%timeit \"-\".join([str(n) for n in range(100)]) "
   ]
  },
  {
   "cell_type": "code",
   "execution_count": 10,
   "metadata": {
    "collapsed": false
   },
   "outputs": [
    {
     "name": "stdout",
     "output_type": "stream",
     "text": [
      "13 µs ± 158 ns per loop (mean ± std. dev. of 7 runs, 100000 loops each)\n"
     ]
    }
   ],
   "source": [
    "%timeit \"-\".join(map(str, range(100))) "
   ]
  },
  {
   "cell_type": "markdown",
   "metadata": {},
   "source": [
    "Parfait !\n",
    "Nous sommes arrivés à la même conclusion. Il est important de noter que Jupyter limitera le *temps réel* d'exécution avec la procédure timeit. Par exemple si faire 10.000 boucles prendrait 10 minutes, Jupyter va automatiquement réduire le nombre de boucles pour utiliser une valeur plus raisonnable entre 100 et 1000.\n",
    "\n",
    "Vous avez maintenant tous les outils pour chronométrer votre code, directement dans un Notebook Jupyter ou en Python."
   ]
  },
  {
   "cell_type": "code",
   "execution_count": null,
   "metadata": {
    "collapsed": true
   },
   "outputs": [],
   "source": []
  }
 ],
 "metadata": {
  "kernelspec": {
   "display_name": "Python 3",
   "language": "python",
   "name": "python3"
  },
  "language_info": {
   "codemirror_mode": {
    "name": "ipython",
    "version": 3
   },
   "file_extension": ".py",
   "mimetype": "text/x-python",
   "name": "python",
   "nbconvert_exporter": "python",
   "pygments_lexer": "ipython3",
   "version": "3.6.0"
  }
 },
 "nbformat": 4,
 "nbformat_minor": 1
}
