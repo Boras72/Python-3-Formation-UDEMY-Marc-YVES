{
 "cells": [
  {
   "cell_type": "markdown",
   "metadata": {},
   "source": [
    "# Les  expressions régulières\n",
    "\n",
    "Les expression régulières sont des filtres de recherche de texte qui suivent des règles très précises. Elles sont disponibles dans de nombreux langages et vous les entendrez souvent être mentionnées par les termes '`regex`' ou '`regexp`'. Les expressions régulières couvrent un large spectre de règles, recherche de répétitions, de texte spécifique et bien d'autres choses. Quand vous progresserez en Python, vous réaliserez que de nombreux problèmes de 'parsing', d'analyse de texte, peuvent être résolus par des expressions régulières.\n",
    "\n",
    "C'est aussi une question classique en entretien d'embauche...\n",
    "\n",
    "Si vous les avez déjà pratiquées dans un autre langage, comme Perl, vous remarquerez que leur syntaxe d'utilisation est très similaire en Python.\n",
    "\n",
    "Nous allons maintenant les découvrir à l'aide du module `re`.\n",
    "\n",
    "En avant la musique !"
   ]
  },
  {
   "cell_type": "markdown",
   "metadata": {},
   "source": [
    "## Recherche de modèles (pattern) dans un texte\n",
    "\n",
    "Une des utilisations les plus courantes du module `re` est de rechercher des bouts de texte.\n",
    "\n",
    "Voici un exemple :\n"
   ]
  },
  {
   "cell_type": "code",
   "execution_count": 2,
   "metadata": {},
   "outputs": [
    {
     "name": "stdout",
     "output_type": "stream",
     "text": [
      "Recherche de \"terme1\" dans: \n",
      "\"Ceci est une chaine avec le terme1, mais elle ne contient pas l'autre terme.\"\n",
      "\n",
      "Le terme est présent. \n",
      "\n",
      "Recherche de \"terme2\" dans: \n",
      "\"Ceci est une chaine avec le terme1, mais elle ne contient pas l'autre terme.\"\n",
      "\n",
      "Le terme est absent.\n",
      "\n"
     ]
    }
   ],
   "source": [
    "import re\n",
    "\n",
    "# Liste des mots recherchés\n",
    "aiguilles = [ 'terme1', 'terme2' ]\n",
    "\n",
    "# Texte à analyser\n",
    "botte = \"Ceci est une chaine avec le terme1, mais elle ne contient pas l'autre terme.\"\n",
    "\n",
    "for aiguille in aiguilles:\n",
    "    print ('Recherche de \"%s\" dans: \\n\"%s\"' % (aiguille, botte))\n",
    "    \n",
    "    # Recherche de l'aiguille dans la botte de foin\n",
    "    if re.search(aiguille,  botte):\n",
    "        print('\\nLe terme est présent. \\n')\n",
    "    else:\n",
    "        print('\\nLe terme est absent.\\n')"
   ]
  },
  {
   "cell_type": "markdown",
   "metadata": {},
   "source": [
    "Nous venons de voir que re.search() va prendre le modèle, analyser le texte, et enfin renvoyer un objet **Match** s'il est trouvé. Si le modèle n'est pas trouvé, **None** sera renvoyé.\n",
    "\n",
    "Pour bien comprendre cela, nous allons décortiquer l'exemple précédent :\n",
    "To give a clearer picture of this match object, check out the cell below:"
   ]
  },
  {
   "cell_type": "code",
   "execution_count": 5,
   "metadata": {},
   "outputs": [
    {
     "data": {
      "text/plain": [
       "NoneType"
      ]
     },
     "execution_count": 5,
     "metadata": {},
     "output_type": "execute_result"
    }
   ],
   "source": [
    "# Le mot recherché\n",
    "aiguille = 'terme2'\n",
    "\n",
    "# Texte à analyser\n",
    "botte = \"Ceci est une chaine avec le terme1, mais elle ne contient pas l'autre terme.\"\n",
    "\n",
    "match = re.search(aiguille,  botte)\n",
    "\n",
    "type(match)"
   ]
  },
  {
   "cell_type": "code",
   "execution_count": 6,
   "metadata": {},
   "outputs": [
    {
     "data": {
      "text/plain": [
       "_sre.SRE_Match"
      ]
     },
     "execution_count": 6,
     "metadata": {},
     "output_type": "execute_result"
    }
   ],
   "source": [
    "# Le mot recherché\n",
    "aiguille = 'terme1'\n",
    "\n",
    "# Texte à analyser\n",
    "botte = \"Ceci est une chaine avec le terme1, mais elle ne contient pas l'autre terme.\"\n",
    "\n",
    "match = re.search(aiguille,  botte)\n",
    "\n",
    "type(match)"
   ]
  },
  {
   "cell_type": "markdown",
   "metadata": {},
   "source": [
    "Cet objet **Match** renvoyé par la méthode `search()` est plus qu'un Booléen ou Noce, en cas de correspondance il contiendra des informations sur celle-ci, il y a la chaine testée, l'expression régulire utiulisée et la position à laquelle a été découverte la correspondance.\n",
    "\n",
    "Voyons maintenant les méthodes que l'on peut utiliser sur un objet **Match** :"
   ]
  },
  {
   "cell_type": "code",
   "execution_count": 7,
   "metadata": {},
   "outputs": [
    {
     "data": {
      "text/plain": [
       "28"
      ]
     },
     "execution_count": 7,
     "metadata": {},
     "output_type": "execute_result"
    }
   ],
   "source": [
    "# Afficher le début de la correspondance\n",
    "match.start()"
   ]
  },
  {
   "cell_type": "code",
   "execution_count": 8,
   "metadata": {},
   "outputs": [
    {
     "data": {
      "text/plain": [
       "34"
      ]
     },
     "execution_count": 8,
     "metadata": {},
     "output_type": "execute_result"
    }
   ],
   "source": [
    "# Afficher la fin\n",
    "match.end()"
   ]
  },
  {
   "cell_type": "markdown",
   "metadata": {},
   "source": [
    "## Découpage avec des expressions régulières\n",
    "\n",
    "Le module re et une syntaxe particulière permettent de couper une chaine, à la manière de ce que nous avons vu avec la méthode `split()` pour les chaines de caractères.\n"
   ]
  },
  {
   "cell_type": "code",
   "execution_count": 10,
   "metadata": {},
   "outputs": [
    {
     "data": {
      "text/plain": [
       "[\"Quel est le domaine de quelqu'un dont l'adreese mail est : hello\",\n",
       " 'gmail.com']"
      ]
     },
     "execution_count": 10,
     "metadata": {},
     "output_type": "execute_result"
    }
   ],
   "source": [
    "# Terme ou caractère pour faire la coupe\n",
    "charniere = '@'\n",
    "\n",
    "phrase = \"Quel est le domaine de quelqu'un dont l'adresse mail est : hello@gmail.com\"\n",
    "\n",
    "# Couper la phrase\n",
    "re.split(charniere,phrase)"
   ]
  },
  {
   "cell_type": "markdown",
   "metadata": {},
   "source": [
    "Soyez sur d'avoir noté que re.split() retourne une liste de laquelle les termes pour faire la coupe ont disparu, et les éléments de la liste dont les coupes de la chaine de départ.\n",
    "Pratiquez avec vos propres exemple pour être sur de bien maitriser le concept !\n",
    "\n",
    "## Trouver toutes les occurences d'un modèle (pattern)\n",
    "\n",
    "Vous pouvez aussi utiliser re.findall() pour trouver toutes les occurences d'un modèle dans une chaine.\n",
    "\n",
    "Exemple :"
   ]
  },
  {
   "cell_type": "code",
   "execution_count": 11,
   "metadata": {},
   "outputs": [
    {
     "data": {
      "text/plain": [
       "['match']"
      ]
     },
     "execution_count": 11,
     "metadata": {},
     "output_type": "execute_result"
    }
   ],
   "source": [
    "# Renvoie la liste de toutes les occurences\n",
    "re.findall('match','phrase de test avec match qui se trouve au milieu')"
   ]
  },
  {
   "cell_type": "markdown",
   "metadata": {},
   "source": [
    "## Syntaxe des modèles `re`\n",
    "\n",
    "C'est le gros morceau de cette leçon sur l'utilisation de `re`avec Python. Les expressions régulières supportent une grande variété de modèles plus puissants que la simple recherche de la position d'une chaine de caractère dans une autre.\n",
    "\n",
    "Il est possible d'utiliser des *metacharacters* avec re pour rechercher des modèles très spécifiques.\n",
    "\n",
    "Comme nous allons faire de nombreux essais avec différentes syntaxes, commençont par définir une fonctions pour afficher les résultats d'une recherche passée en paramètre.\n"
   ]
  },
  {
   "cell_type": "code",
   "execution_count": 13,
   "metadata": {
    "collapsed": true
   },
   "outputs": [],
   "source": [
    "def multi_re(aiguilles,phrase):\n",
    "    '''\n",
    "    Takes in a list of regex patterns\n",
    "    Prints a list of all matches\n",
    "    '''\n",
    "    for aiguille in aiguilles:\n",
    "        print ('Recherche dans une phrase en utilisant le modèle re : %r' %aiguille)\n",
    "        print (re.findall(aiguille,phrase))\n",
    "        print ('\\n')"
   ]
  },
  {
   "cell_type": "markdown",
   "metadata": {},
   "source": [
    "### Répétitions\n",
    "\n",
    "Il y a 5 façons différentes de rechercher une répétition :\n",
    "\n",
    "    1.) Un modèle suivi du meta-charactère * est répété zéro fois ou plusieurs.\n",
    "    2.) Remplacer * par + et le modèle devra apparaitre au moins une fois. \n",
    "    3.) Utiliser ? signifie que le modèle apparait zéro ou une fois.\n",
    "    4.) Un nombre précis de répétitions sera trouvé avec la syntaxe {m} à la suite du modèle, où m représente le nombre attendu de répétitions du modèle.\n",
    "    5.) La syntaxe {m,n} permet de spécifier un nombre minimum (m) et une nombre maximum (n) de répétitions. La notation {m,} sans préciser n signifie que la valeur apparait au moins m fois, sans maximum.\n",
    "    \n",
    "Voyons quelques exemples de tout cela avec notre fonction multi_re définie précédemment :"
   ]
  },
  {
   "cell_type": "code",
   "execution_count": 15,
   "metadata": {},
   "outputs": [
    {
     "name": "stdout",
     "output_type": "stream",
     "text": [
      "Recherche dans une phrase en utilisant le modèle re : 'sd*'\n",
      "['sd', 'sd', 's', 's', 'sddd', 'sddd', 'sddd', 'sd', 's', 's', 's', 's', 's', 's', 'sdddd']\n",
      "\n",
      "\n",
      "Recherche dans une phrase en utilisant le modèle re : 'sd+'\n",
      "['sd', 'sd', 'sddd', 'sddd', 'sddd', 'sd', 'sdddd']\n",
      "\n",
      "\n",
      "Recherche dans une phrase en utilisant le modèle re : 'sd?'\n",
      "['sd', 'sd', 's', 's', 'sd', 'sd', 'sd', 'sd', 's', 's', 's', 's', 's', 's', 'sd']\n",
      "\n",
      "\n",
      "Recherche dans une phrase en utilisant le modèle re : 'sd{3}'\n",
      "['sddd', 'sddd', 'sddd', 'sddd']\n",
      "\n",
      "\n",
      "Recherche dans une phrase en utilisant le modèle re : 'sd{2,3}'\n",
      "['sddd', 'sddd', 'sddd', 'sddd']\n",
      "\n",
      "\n"
     ]
    }
   ],
   "source": [
    "phrase_test = 'sdsd..sssddd...sdddsddd...dsds...dsssss...sdddd'\n",
    "\n",
    "aiguilles = [ 'sd*',            # s suivi par aucun ou plusieurs d\n",
    "                'sd+',          # s suivi par un ou plusieurs d\n",
    "                'sd?',          # s suivi par aucun ou un seul d\n",
    "                'sd{3}',        # s suivi par trois d\n",
    "                'sd{2,3}',      # s suivi par deux à trois d\n",
    "                ]\n",
    "\n",
    "multi_re(aiguilles,phrase_test)"
   ]
  },
  {
   "cell_type": "markdown",
   "metadata": {},
   "source": [
    "## Jeux de caractères\n",
    "\n",
    "Les jeux de caractères sont utilisés quand vous voulez trouver un groupe de caractères spécifiques. Des crochets (carrès) sont utilisés pour construire le jeu de caractères en entrée.\n",
    "Par exemple, l'entrée [ab] cherchera des occurences de a ou b.\n",
    "\n",
    "Voyons quelques exemples :"
   ]
  },
  {
   "cell_type": "code",
   "execution_count": 18,
   "metadata": {},
   "outputs": [
    {
     "name": "stdout",
     "output_type": "stream",
     "text": [
      "Recherche dans une phrase en utilisant le modèle re : '[sd]'\n",
      "['s', 'd', 's', 'd', 's', 's', 's', 'd', 'd', 'd', 's', 'd', 'd', 'd', 's', 'd', 'd', 'd', 'd', 's', 'd', 's', 'd', 's', 's', 's', 's', 's', 's', 'd', 'd', 'd', 'd']\n",
      "\n",
      "\n",
      "Recherche dans une phrase en utilisant le modèle re : 's[sd]+'\n",
      "['sdsd', 'sssddd', 'sdddsddd', 'sds', 'sssss', 'sdddd']\n",
      "\n",
      "\n"
     ]
    }
   ],
   "source": [
    "phrase_test = 'sdsd..sssddd...sdddsddd...dsds...dsssss...sdddd'\n",
    "\n",
    "aiguilles = [ '[sd]',    # s ou d\n",
    "            's[sd]+']    # s suivi par un ou plusieurs s ou d\n",
    "            \n",
    "\n",
    "multi_re(aiguilles,phrase_test)"
   ]
  },
  {
   "cell_type": "markdown",
   "metadata": {},
   "source": [
    "It makes sense that the first [sd] returns every instance. Also the second input will just return any thing starting with an s in this particular case of the test phrase input."
   ]
  },
  {
   "cell_type": "markdown",
   "metadata": {},
   "source": [
    "##Exclusion\n",
    "\n",
    "We can use ^ to exclude terms by incorporating it into the bracket syntax notation. For example: [^...] will match any single character not in the brackets. Let's see some examples:"
   ]
  },
  {
   "cell_type": "code",
   "execution_count": null,
   "metadata": {
    "collapsed": true
   },
   "outputs": [],
   "source": [
    "test_phrase = 'This is a string! But it has punctuation. How can we remove it?'"
   ]
  },
  {
   "cell_type": "markdown",
   "metadata": {},
   "source": [
    "Use [^!.? ] to check for matches that are not a !,.,?, or space. Add the + to check that the match appears at least once, this basically translate into finding the words."
   ]
  },
  {
   "cell_type": "code",
   "execution_count": 56,
   "metadata": {},
   "outputs": [
    {
     "data": {
      "text/plain": [
       "['This',\n",
       " 'is',\n",
       " 'a',\n",
       " 'string',\n",
       " 'But',\n",
       " 'it',\n",
       " 'has',\n",
       " 'punctutation',\n",
       " 'How',\n",
       " 'can',\n",
       " 'we',\n",
       " 'remove',\n",
       " 'it']"
      ]
     },
     "execution_count": 56,
     "metadata": {},
     "output_type": "execute_result"
    }
   ],
   "source": [
    "re.findall('[^!.? ]+',test_phrase)"
   ]
  },
  {
   "cell_type": "markdown",
   "metadata": {},
   "source": [
    "##Character Ranges\n",
    "\n",
    "As character sets grow larger, typing every character that should (or should not) match could become very tedious. A more compact format using character ranges lets you define a character set to include all of the contiguous characters between a start and stop point. The format used is [start-end].\n",
    "\n",
    "Common use cases are to search for a specific range of letters in the alphabet, such [a-f] would return matches with any instance of letters between a and f. \n",
    "\n",
    "Let's walk through some examples:"
   ]
  },
  {
   "cell_type": "code",
   "execution_count": 65,
   "metadata": {},
   "outputs": [
    {
     "name": "stdout",
     "output_type": "stream",
     "text": [
      "Searching the phrase using the re check: '[a-z]+'\n",
      "['his', 'is', 'an', 'example', 'sentence', 'ets', 'see', 'if', 'we', 'can', 'find', 'some', 'letters']\n",
      "\n",
      "\n",
      "Searching the phrase using the re check: '[A-Z]+'\n",
      "['T', 'L']\n",
      "\n",
      "\n",
      "Searching the phrase using the re check: '[a-zA-Z]+'\n",
      "['This', 'is', 'an', 'example', 'sentence', 'Lets', 'see', 'if', 'we', 'can', 'find', 'some', 'letters']\n",
      "\n",
      "\n",
      "Searching the phrase using the re check: '[A-Z][a-z]+'\n",
      "['This', 'Lets']\n",
      "\n",
      "\n"
     ]
    }
   ],
   "source": [
    "\n",
    "test_phrase = 'This is an example sentence. Lets see if we can find some letters.'\n",
    "\n",
    "test_patterns=[ '[a-z]+',      # sequences of lower case letters\n",
    "                '[A-Z]+',      # sequences of upper case letters\n",
    "                '[a-zA-Z]+',   # sequences of lower or upper case letters\n",
    "                '[A-Z][a-z]+'] # one upper case letter followed by lower case letters\n",
    "                \n",
    "multi_re_find(test_patterns,test_phrase)"
   ]
  },
  {
   "cell_type": "markdown",
   "metadata": {},
   "source": [
    "##Escape Codes\n",
    "\n",
    "You can use special escape codes to find specific types of patterns in your data, such as digits, non-digits,whitespace, and more. For example:\n",
    "\n",
    "<table border=\"1\" class=\"docutils\">\n",
    "<colgroup>\n",
    "<col width=\"14%\" />\n",
    "<col width=\"86%\" />\n",
    "</colgroup>\n",
    "<thead valign=\"bottom\">\n",
    "<tr class=\"row-odd\"><th class=\"head\">Code</th>\n",
    "<th class=\"head\">Meaning</th>\n",
    "</tr>\n",
    "</thead>\n",
    "<tbody valign=\"top\">\n",
    "<tr class=\"row-even\"><td><tt class=\"docutils literal\"><span class=\"pre\">\\d</span></tt></td>\n",
    "<td>a digit</td>\n",
    "</tr>\n",
    "<tr class=\"row-odd\"><td><tt class=\"docutils literal\"><span class=\"pre\">\\D</span></tt></td>\n",
    "<td>a non-digit</td>\n",
    "</tr>\n",
    "<tr class=\"row-even\"><td><tt class=\"docutils literal\"><span class=\"pre\">\\s</span></tt></td>\n",
    "<td>whitespace (tab, space, newline, etc.)</td>\n",
    "</tr>\n",
    "<tr class=\"row-odd\"><td><tt class=\"docutils literal\"><span class=\"pre\">\\S</span></tt></td>\n",
    "<td>non-whitespace</td>\n",
    "</tr>\n",
    "<tr class=\"row-even\"><td><tt class=\"docutils literal\"><span class=\"pre\">\\w</span></tt></td>\n",
    "<td>alphanumeric</td>\n",
    "</tr>\n",
    "<tr class=\"row-odd\"><td><tt class=\"docutils literal\"><span class=\"pre\">\\W</span></tt></td>\n",
    "<td>non-alphanumeric</td>\n",
    "</tr>\n",
    "</tbody>\n",
    "</table>\n",
    "\n",
    "Escapes are indicated by prefixing the character with a backslash (\\). Unfortunately, a backslash must itself be escaped in normal Python strings, and that results in expressions that are difficult to read. Using raw strings, created by prefixing the literal value with r, for creating regular expressions eliminates this problem and maintains readability.\n",
    "\n",
    "Personally, I think this use of r to escape a backslash is probably one of the things that block someone who is not familiar with regex in Python from being able to read regex code at first. Hopefully after seeing these examples this syntax will become clear."
   ]
  },
  {
   "cell_type": "code",
   "execution_count": 68,
   "metadata": {},
   "outputs": [
    {
     "name": "stdout",
     "output_type": "stream",
     "text": [
      "Searching the phrase using the re check: '\\\\d+'\n",
      "['1233']\n",
      "\n",
      "\n",
      "Searching the phrase using the re check: '\\\\D+'\n",
      "['This is a string with some numbers ', ' and a symbol #hashtag']\n",
      "\n",
      "\n",
      "Searching the phrase using the re check: '\\\\s+'\n",
      "[' ', ' ', ' ', ' ', ' ', ' ', ' ', ' ', ' ', ' ', ' ']\n",
      "\n",
      "\n",
      "Searching the phrase using the re check: '\\\\S+'\n",
      "['This', 'is', 'a', 'string', 'with', 'some', 'numbers', '1233', 'and', 'a', 'symbol', '#hashtag']\n",
      "\n",
      "\n",
      "Searching the phrase using the re check: '\\\\w+'\n",
      "['This', 'is', 'a', 'string', 'with', 'some', 'numbers', '1233', 'and', 'a', 'symbol', 'hashtag']\n",
      "\n",
      "\n",
      "Searching the phrase using the re check: '\\\\W+'\n",
      "[' ', ' ', ' ', ' ', ' ', ' ', ' ', ' ', ' ', ' ', ' #']\n",
      "\n",
      "\n"
     ]
    }
   ],
   "source": [
    "test_phrase = 'This is a string with some numbers 1233 and a symbol #hashtag'\n",
    "\n",
    "test_patterns=[ r'\\d+', # sequence of digits\n",
    "                r'\\D+', # sequence of non-digits\n",
    "                r'\\s+', # sequence of whitespace\n",
    "                r'\\S+', # sequence of non-whitespace\n",
    "                r'\\w+', # alphanumeric characters\n",
    "                r'\\W+', # non-alphanumeric\n",
    "                ]\n",
    "\n",
    "multi_re_find(test_patterns,test_phrase)"
   ]
  },
  {
   "cell_type": "markdown",
   "metadata": {},
   "source": [
    "## Conclusion\n",
    "\n",
    "You should now have a solid understanding of how to use the regular expression module in Python. There are a ton of more special character instances, but it would be unreasonable to go through every single use case. Instead take a look at the full [documentation](https://docs.python.org/2/library/re.html#regular-expression-syntax) if you ever need to look up a particular case.\n",
    "\n",
    "You can also check out the nice summary tables at this [source](http://www.tutorialspoint.com/python/python_reg_expressions.htm).\n",
    "\n",
    "Good job!\n"
   ]
  }
 ],
 "metadata": {
  "kernelspec": {
   "display_name": "Python 3",
   "language": "python",
   "name": "python3"
  },
  "language_info": {
   "codemirror_mode": {
    "name": "ipython",
    "version": 3
   },
   "file_extension": ".py",
   "mimetype": "text/x-python",
   "name": "python",
   "nbconvert_exporter": "python",
   "pygments_lexer": "ipython3",
   "version": "3.6.8"
  }
 },
 "nbformat": 4,
 "nbformat_minor": 1
}
